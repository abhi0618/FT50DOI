{
 "cells": [
  {
   "cell_type": "code",
   "execution_count": null,
   "metadata": {},
   "outputs": [],
   "source": [
    "cd E:\\Users\\Abhi0618\\Downloads\\JBEPdfs"
   ]
  },
  {
   "cell_type": "code",
   "execution_count": null,
   "metadata": {},
   "outputs": [],
   "source": [
    "pip install crossrefapi"
   ]
  },
  {
   "cell_type": "code",
   "execution_count": null,
   "metadata": {},
   "outputs": [],
   "source": [
    "from crossref.restful import Works\n",
    "from crossref.restful import Journals\n",
    "from os import name\n",
    "from os import write\n",
    "import numpy\n",
    "import csv\n",
    "import pandas as pd\n",
    "from tqdm.notebook import trange\n",
    "\n",
    "works=Works()\n",
    "journals=Journals()\n",
    "\n",
    "\n",
    "\n",
    "with open(\"Journal of Accounting and Economics.csv\",\"w\") as out_file:\n",
    "  for i in journals.works('0165-4101').select('DOI'):\n",
    "    out_string=str(i)\n",
    "    out_string += \"\\n\"\n",
    "    out_file.write(out_string)\n",
    "\n",
    "    with open('Journal of Accounting and Economics.csv', 'r') as f_in, open('Journal of Accounting and Economics.txt', 'w') as f_out:\n",
    "    content = f_in.read()\n",
    "    f_out.write(content)\n",
    "\n",
    "#Renaming all files to remove delimiters and the word'DOI'\n",
    "\n",
    "# creating a variable and storing the text\n",
    "# that we want to replace(the initial string before and affter the execution)\n",
    "search_text1 = \"{'DOI': '\"\n",
    "replace_text1= \"\"\n",
    "search_text2 = \"'}\"\n",
    "replace_text2= \"\"\n",
    "\n",
    "\n",
    "with open(r'Journal of Accounting and Economics.txt', 'r') as file:\n",
    "\n",
    "    data = file.read()\n",
    "    data = data.replace(search_text1, replace_text1)\n",
    "    data=data.replace(search_text2,replace_text2)\n",
    "    \n",
    "# Opening our text file in write only\n",
    "# mode to write the replaced content\n",
    "with open(r'Journal of Accounting and Economics.txt', 'w') as file:\n",
    "  \n",
    "    # Writing the replaced data in our\n",
    "    # text file\n",
    "    file.write(data)\n",
    "  \n",
    "\n"
   ]
  }
 ],
 "metadata": {
  "kernelspec": {
   "display_name": "Python 3.10.8 64-bit (microsoft store)",
   "language": "python",
   "name": "python3"
  },
  "language_info": {
   "name": "python",
   "version": "3.10.8"
  },
  "orig_nbformat": 4,
  "vscode": {
   "interpreter": {
    "hash": "6221aeb626722c8b01444af4af76b1b9818ebac10bae5ae8818e05dbd6d8aff9"
   }
  }
 },
 "nbformat": 4,
 "nbformat_minor": 2
}
